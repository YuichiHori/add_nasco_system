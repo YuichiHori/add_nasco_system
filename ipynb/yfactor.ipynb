{
 "metadata": {
  "language_info": {
   "codemirror_mode": {
    "name": "ipython",
    "version": 3
   },
   "file_extension": ".py",
   "mimetype": "text/x-python",
   "name": "python",
   "nbconvert_exporter": "python",
   "pygments_lexer": "ipython3",
   "version": "3.8.5-final"
  },
  "orig_nbformat": 2,
  "kernelspec": {
   "name": "python3",
   "display_name": "Python 3",
   "language": "python"
  }
 },
 "nbformat": 4,
 "nbformat_minor": 2,
 "cells": [
  {
   "cell_type": "code",
   "execution_count": 2,
   "metadata": {},
   "outputs": [],
   "source": [
    "import os\n",
    "import sys\n",
    "import time\n",
    "import numpy as np\n",
    "import pandas as pd\n",
    "import xarray as xr\n",
    "from scipy.interpolate import interp1d\n",
    "import matplotlib\n",
    "%matplotlib inline\n",
    "#matplotlib.rcParams['font.size'] = 12\n",
    "import matplotlib.pyplot as plt\n",
    "import necstdb"
   ]
  },
  {
   "cell_type": "code",
   "execution_count": 3,
   "metadata": {},
   "outputs": [],
   "source": [
    "cwd = os.getcwd()\n",
    "db = necstdb.opendb(cwd)"
   ]
  },
  {
   "cell_type": "code",
   "execution_count": 2,
   "metadata": {},
   "outputs": [],
   "source": [
    "def conv_xarray(db, topic, name=''):\n",
    "    array_data = db.open_table(topic).read(astype=\"array\")\n",
    "    xarray_data = xr.DataArray(array_data['data'], dims=['timestamp'], coords={'timestamp' : array_data['timestamp']}, name=name)\n",
    "    return xarray_data\n",
    "\n",
    "def resample_pre(resample_xarray, reference_xarray, index=\"timestamp\", kind=\"previous\", **kwargs):\n",
    "    resample_func = interp1d(resample_xarray[index].values, resample_xarray.values, kind, **kwargs)\n",
    "    return resample_func(reference_xarray[index].values)"
   ]
  },
  {
   "cell_type": "code",
   "execution_count": null,
   "metadata": {},
   "outputs": [],
   "source": [
    "power = conv_xarray(db, 'ml2437a')[2:-2]"
   ]
  },
  {
   "cell_type": "code",
   "execution_count": null,
   "metadata": {},
   "outputs": [],
   "source": [
    "slider = conv_xarray(db, 'slider_location_cmd')\n",
    "vol = conv_xarray(db, 'sis_vol_2l')\n",
    "vol_cmd = conv_xarray(db, 'sis_vol_2l_cmd')\n",
    "loatt = conv_xarray(db, 'loatt_2l_cmd')\n",
    "cur = conv_xarray(db, 'sis_cur_2l')"
   ]
  },
  {
   "cell_type": "code",
   "execution_count": null,
   "metadata": {},
   "outputs": [],
   "source": [
    "data = xr.DataArray(power.values, coords={'timestamp' : power['timestamp'].values, 'sisvol' : ('timestamp', resample_pre(vol, power, kind='linear')), 'sisvol_cmd' : ('timestamp', resample_pre(vol_cmd, power, fill_value=\"extrapolate\")), 'slider' : ('timestamp', resample_pre(slider, power, fill_value=\"extrapolate\")),  'siscur' : ('timestamp', resample_pre(cur, power, kind = 'linear')), 'loatt' : ('timestamp', resample_pre(loatt, power, fill_value=\"extrapolate\"))}, dims='timestamp')"
   ]
  },
  {
   "cell_type": "code",
   "execution_count": null,
   "metadata": {},
   "outputs": [],
   "source": [
    "pd_data = data.to_dataframe(\"power\")"
   ]
  },
  {
   "cell_type": "code",
   "execution_count": null,
   "metadata": {},
   "outputs": [],
   "source": [
    "pd_mean = pd_data.groupby(['loatt', 'sisvol_cmd', 'slider']).median()"
   ]
  },
  {
   "cell_type": "code",
   "execution_count": null,
   "metadata": {},
   "outputs": [],
   "source": [
    "pd_mean"
   ]
  },
  {
   "cell_type": "code",
   "execution_count": null,
   "metadata": {},
   "outputs": [],
   "source": [
    "pd_mean['power_diff'] = pd_mean.groupby(['loatt','sisvol_cmd'])['power'].diff()"
   ]
  },
  {
   "cell_type": "code",
   "execution_count": null,
   "metadata": {},
   "outputs": [],
   "source": [
    "pd_mean"
   ]
  },
  {
   "cell_type": "code",
   "execution_count": null,
   "metadata": {},
   "outputs": [],
   "source": [
    "pd_power = pd_mean[pd_mean['power_diff'].notna()].reset_index()"
   ]
  },
  {
   "cell_type": "code",
   "execution_count": null,
   "metadata": {},
   "outputs": [],
   "source": [
    "pd_power['yfactor']=10**(-pd_power['power_diff']/10)"
   ]
  },
  {
   "cell_type": "code",
   "execution_count": null,
   "metadata": {},
   "outputs": [],
   "source": [
    "pd_power"
   ]
  },
  {
   "cell_type": "code",
   "execution_count": null,
   "metadata": {},
   "outputs": [],
   "source": [
    "pd_power.sort_values(\"yfactor\")[-10:]"
   ]
  },
  {
   "cell_type": "code",
   "execution_count": null,
   "metadata": {},
   "outputs": [],
   "source": [
    "fig = plt.figure()\n",
    "ax = fig.add_subplot(1, 1, 1)\n",
    "mappable = ax.scatter(pd_power['sisvol_cmd'], pd_power['siscur'], c=pd_power['yfactor'], cmap='jet', s=5)\n",
    "#ax.set_xlim(0,10)\n",
    "ax.set_xlabel('Voltage ( mV )')\n",
    "ax.set_ylabel('Current ( uA )')\n",
    "bar = fig.colorbar(mappable)\n",
    "bar.set_label('Y-factor')\n",
    "#plt.savefig('yfactor.pdf')"
   ]
  }
 ]
}